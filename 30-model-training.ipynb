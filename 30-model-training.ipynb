{
  "cells": [
    {
      "cell_type": "markdown",
      "metadata": {
        "id": "view-in-github",
        "colab_type": "text"
      },
      "source": [
        "<a href=\"https://colab.research.google.com/github/vanderbilt-data-science/repo-template-huggingface/blob/main/30-model-training.ipynb\" target=\"_parent\"><img src=\"https://colab.research.google.com/assets/colab-badge.svg\" alt=\"Open In Colab\"/></a>"
      ]
    },
    {
      "cell_type": "markdown",
      "metadata": {
        "id": "6XMo5TIfqeHe"
      },
      "source": [
        "# 30-model-training\n",
        "> Training models\n",
        "\n",
        "In this notebook, we train models based on the feature set of interest to predict the outcomes.  This code is strictly a template - make sure you add all appropriate markdown and change parameters appropriately."
      ]
    },
    {
      "cell_type": "code",
      "source": [
        "%%capture\n",
        "!pip install transformers datasets"
      ],
      "metadata": {
        "id": "TTqR-zjJqhBd"
      },
      "execution_count": null,
      "outputs": []
    },
    {
      "cell_type": "markdown",
      "metadata": {
        "id": "T11YHO3QqeHi"
      },
      "source": [
        "#### Common helpful packages"
      ]
    },
    {
      "cell_type": "code",
      "execution_count": null,
      "metadata": {
        "id": "Wpl5thQwqeHi"
      },
      "outputs": [],
      "source": [
        "#Data analysis and processing\n",
        "import pandas as pd\n",
        "import numpy as np\n",
        "\n",
        "#machine learning\n",
        "from sklearn.model_selection import train_test_split\n",
        "\n",
        "#transformers base\n",
        "from datasets import load_dataset, load_metric, Dataset\n",
        "from huggingface_hub import notebook_login\n",
        "from transformers import AutoTokenizer, TrainingArguments, Trainer, DataCollatorWithPadding\n",
        "\n",
        "#transformers task\n",
        "from transformers import AutoModelForSequenceClassification"
      ]
    },
    {
      "cell_type": "markdown",
      "source": [
        "#### Notebook constants\n",
        "The following cell contains most of the variables that the user may choose to modify for their particular dataset or to choose a different model."
      ],
      "metadata": {
        "id": "Gg_g8F4qsON3"
      }
    },
    {
      "cell_type": "code",
      "source": [
        "#datasets\n",
        "dataset_id = 'tweet_eval'\n",
        "dataset_config = 'emotion' #can also be None (the data type, not the string)\n",
        "\n",
        "#model and tokenizers\n",
        "model_name = \"distilbert-base-cased\"\n",
        "tokenizer_name = \"distilbert-base-cased\"\n",
        "\n",
        "#model outputs\n",
        "model_directory_name = 'trained_model'\n",
        "\n",
        "#whether to push to hub\n",
        "push_to_hub = False"
      ],
      "metadata": {
        "id": "pqpwCxU8sTY2"
      },
      "execution_count": null,
      "outputs": []
    },
    {
      "cell_type": "markdown",
      "source": [
        "## Huggingface Hub login\n",
        "You don't need to log in unless you plan to pull from private repos on the Hub or push to the Hub."
      ],
      "metadata": {
        "id": "A-Ed9x2prjRZ"
      }
    },
    {
      "cell_type": "code",
      "execution_count": null,
      "metadata": {
        "id": "cQe2lFX1qeHj"
      },
      "outputs": [],
      "source": [
        "!git config --global credential.helper store\n",
        "notebook_login()"
      ]
    },
    {
      "cell_type": "markdown",
      "metadata": {
        "id": "Qqje2T5RqeHk"
      },
      "source": [
        "# Load data\n",
        "The following code assumes that you're loading data from the Huggingface Hub. However, you can use local data (on Colab)"
      ]
    },
    {
      "cell_type": "code",
      "execution_count": null,
      "metadata": {
        "id": "9hQZgOW9qeHk"
      },
      "outputs": [],
      "source": [
        "#Load tweet_eval dataset, emotion configuration\n",
        "ds = load_dataset(dataset_id, dataset_config)\n",
        "ds"
      ]
    },
    {
      "cell_type": "code",
      "source": [
        "#Make data labels for classification\n",
        "num_classes = ds['train'].features['label'].num_classes\n",
        "id2label = {ind:val for ind, val in enumerate(ds['train'].features['label'].names)}\n",
        "label2id = {val:key for key, val in id2label.items()}"
      ],
      "metadata": {
        "id": "pIFB_GNy3igi"
      },
      "execution_count": null,
      "outputs": []
    },
    {
      "cell_type": "markdown",
      "metadata": {
        "id": "XvOIMQYYqeHl"
      },
      "source": [
        "# Tokenization"
      ]
    },
    {
      "cell_type": "code",
      "execution_count": null,
      "metadata": {
        "id": "M7XvGz5wqeHl"
      },
      "outputs": [],
      "source": [
        "#load tokenizer\n",
        "tokenizer = AutoTokenizer.from_pretrained(tokenizer_name)"
      ]
    },
    {
      "cell_type": "code",
      "source": [
        "#define tokenizing function\n",
        "def tokenize_inputs(example):\n",
        "    return tokenizer(example['text'], truncation = True)"
      ],
      "metadata": {
        "id": "f_KQZTNktI9X"
      },
      "execution_count": null,
      "outputs": []
    },
    {
      "cell_type": "code",
      "source": [
        "#do tokenization\n",
        "tokenized_ds = ds.map(tokenize_inputs, batched=True, remove_columns=['text'])"
      ],
      "metadata": {
        "id": "5yKyZqhBtVgX"
      },
      "execution_count": null,
      "outputs": []
    },
    {
      "cell_type": "code",
      "source": [
        "#Instantiate data collator\n",
        "data_collator = DataCollatorWithPadding(tokenizer=tokenizer)"
      ],
      "metadata": {
        "id": "O-deur22tnJ4"
      },
      "execution_count": null,
      "outputs": []
    },
    {
      "cell_type": "markdown",
      "metadata": {
        "id": "ffbqH5muqeHn"
      },
      "source": [
        "# Create and train model\n",
        "Although the code below is provided as a basis for Trainer and TrainingArguments, _you should certainly change the TrainingArguments for your particular case._"
      ]
    },
    {
      "cell_type": "code",
      "execution_count": null,
      "metadata": {
        "id": "sn1iASIdqeHo"
      },
      "outputs": [],
      "source": [
        "#define target task using relevant class\n",
        "model = AutoModelForSequenceClassification.from_pretrained(model_name,\n",
        "                                                           num_labels=num_classes,\n",
        "                                                           id2label=id2label,\n",
        "                                                           label2id=label2id)"
      ]
    },
    {
      "cell_type": "markdown",
      "metadata": {
        "id": "1z_3HPgKqeHo"
      },
      "source": [
        "## Define metric"
      ]
    },
    {
      "cell_type": "code",
      "execution_count": null,
      "metadata": {
        "id": "-VaIvc92qeHp"
      },
      "outputs": [],
      "source": [
        "#we'll use accuracy from HF hub as an example\n",
        "metric = load_metric(\"accuracy\")\n",
        "\n",
        "#function to utilize the metric we've loaded\n",
        "def compute_metrics(eval_pred):\n",
        "    logits, labels = eval_pred\n",
        "    predictions = np.argmax(logits, axis=-1)\n",
        "    return metric.compute(predictions=predictions, references=labels)"
      ]
    },
    {
      "cell_type": "markdown",
      "metadata": {
        "id": "Ouij62F7qeHp"
      },
      "source": [
        "## Train model\n",
        "Note that you will likely need to train a great deal longer than 3 epochs depending on the size of your data. If your data is notably large, you should change \"epochs\" to a number of steps instead to be able to monitor your training adequately.\n",
        "\n",
        "For example, during experimentation, you should likely set `push_to_hub=False` until you're ready for a full training."
      ]
    },
    {
      "cell_type": "code",
      "execution_count": null,
      "metadata": {
        "id": "nQxHMQXnqeHo"
      },
      "outputs": [],
      "source": [
        "#set parameters around training\n",
        "training_args = TrainingArguments(model_directory_name,\n",
        "                                  logging_strategy = \"epoch\",\n",
        "                                  evaluation_strategy=\"epoch\",\n",
        "                                  save_strategy='epoch',\n",
        "                                  load_best_model_at_end = True,\n",
        "                                  metric_for_best_model='accuracy',\n",
        "                                  greater_is_better=True,\n",
        "                                  per_device_train_batch_size = 4,\n",
        "                                  per_device_eval_batch_size = 4,\n",
        "                                  num_train_epochs=3,\n",
        "                                  push_to_hub=push_to_hub,\n",
        "                                  hub_strategy='checkpoint',\n",
        "                                  report_to='all')"
      ]
    },
    {
      "cell_type": "code",
      "execution_count": null,
      "metadata": {
        "id": "n2WjwebjqeHp"
      },
      "outputs": [],
      "source": [
        "#setup trainer and actually train\n",
        "trainer = Trainer(\n",
        "    model=model,\n",
        "    args=training_args,\n",
        "    tokenizer=tokenizer,\n",
        "    data_collator=data_collator,\n",
        "    train_dataset=tokenized_ds['train'],\n",
        "    eval_dataset=tokenized_ds['validation'],\n",
        "    compute_metrics=compute_metrics\n",
        ")\n",
        "\n",
        "#actually train model\n",
        "trainer.train()"
      ]
    },
    {
      "cell_type": "markdown",
      "source": [
        "## Final push\n",
        "Confident with your model? Do a final push (remembering that your best model is loaded if you've used `load_best_model_at_end=True`). Don't forget that you'll need to be logged into Huggingface using `notebook_login`."
      ],
      "metadata": {
        "id": "L26DLqunv3j2"
      }
    },
    {
      "cell_type": "code",
      "source": [
        "#push to hub\n",
        "trainer.push_to_hub(commit_message='end of training 3 epochs')"
      ],
      "metadata": {
        "id": "5UzMyGBLwBMR"
      },
      "execution_count": null,
      "outputs": []
    },
    {
      "cell_type": "markdown",
      "metadata": {
        "id": "EyDJleDSqeHp"
      },
      "source": [
        "# Prediction and evaluation\n",
        "Note that the following code looks at the validation set; however, during training it is often useful to make sure your model can learn on the data by first inspecting the performance on the training dataset."
      ]
    },
    {
      "cell_type": "markdown",
      "source": [
        "\n",
        "## Evaluate"
      ],
      "metadata": {
        "id": "HgToVegOwc2T"
      }
    },
    {
      "cell_type": "code",
      "execution_count": null,
      "metadata": {
        "id": "g-UXrl6mqeHq"
      },
      "outputs": [],
      "source": [
        "#Perform evaluation over entire dataset\n",
        "eval_ds = trainer.evaluate(tokenized_ds['validation'])\n",
        "eval_ds"
      ]
    },
    {
      "cell_type": "markdown",
      "metadata": {
        "id": "zR5OPBUoqeHq"
      },
      "source": [
        "## Predict"
      ]
    },
    {
      "cell_type": "code",
      "execution_count": null,
      "metadata": {
        "id": "FATWp3EeqeHq"
      },
      "outputs": [],
      "source": [
        "#use trainer to predict\n",
        "preds = trainer.predict(tokenized_ds['validation'])\n",
        "preds"
      ]
    },
    {
      "cell_type": "markdown",
      "metadata": {
        "id": "UzoFI4WEqeHq"
      },
      "source": [
        "# Model saving\n",
        "Note that after we've saved the model below, we'll be able to use the pipeline function to load this model and use it for inference."
      ]
    },
    {
      "cell_type": "code",
      "execution_count": null,
      "metadata": {
        "id": "KVDmsFWBqeHq"
      },
      "outputs": [],
      "source": [
        "trainer.save_model('bert-tuned-model')"
      ]
    }
  ],
  "metadata": {
    "kernelspec": {
      "display_name": "Python 3",
      "language": "python",
      "name": "python3"
    },
    "language_info": {
      "codemirror_mode": {
        "name": "ipython",
        "version": 3
      },
      "file_extension": ".py",
      "mimetype": "text/x-python",
      "name": "python",
      "nbconvert_exporter": "python",
      "pygments_lexer": "ipython3",
      "version": "3.8.3"
    },
    "colab": {
      "name": "30-model-training.ipynb",
      "provenance": [],
      "include_colab_link": true
    },
    "accelerator": "GPU",
    "gpuClass": "standard"
  },
  "nbformat": 4,
  "nbformat_minor": 0
}
